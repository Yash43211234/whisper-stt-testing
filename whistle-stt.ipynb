{
 "cells": [
  {
   "cell_type": "code",
   "execution_count": 1,
   "id": "95345e87-6447-4c8c-93a7-4fed8bbb5704",
   "metadata": {},
   "outputs": [
    {
     "name": "stdout",
     "output_type": "stream",
     "text": [
      "Defaulting to user installation because normal site-packages is not writeable\n",
      "Collecting git+https://github.com/openai/whisper.git\n",
      "  Cloning https://github.com/openai/whisper.git to c:\\users\\yashw\\appdata\\local\\temp\\pip-req-build-mxj7qiy2\n",
      "  Resolved https://github.com/openai/whisper.git to commit dd985ac4b90cafeef8712f2998d62c59c3e62d22\n",
      "  Installing build dependencies: started\n",
      "  Installing build dependencies: finished with status 'done'\n",
      "  Getting requirements to build wheel: started\n",
      "  Getting requirements to build wheel: finished with status 'done'\n",
      "  Preparing metadata (pyproject.toml): started\n",
      "  Preparing metadata (pyproject.toml): finished with status 'done'\n",
      "Requirement already satisfied: more-itertools in c:\\users\\yashw\\appdata\\roaming\\python\\python311\\site-packages (from openai-whisper==20240930) (10.7.0)\n",
      "Requirement already satisfied: numba in c:\\users\\yashw\\appdata\\roaming\\python\\python311\\site-packages (from openai-whisper==20240930) (0.61.2)\n",
      "Requirement already satisfied: numpy in c:\\users\\yashw\\appdata\\roaming\\python\\python311\\site-packages (from openai-whisper==20240930) (2.0.2)\n",
      "Requirement already satisfied: tiktoken in c:\\users\\yashw\\appdata\\roaming\\python\\python311\\site-packages (from openai-whisper==20240930) (0.9.0)\n",
      "Requirement already satisfied: torch in c:\\users\\yashw\\appdata\\roaming\\python\\python311\\site-packages (from openai-whisper==20240930) (2.7.0)\n",
      "Requirement already satisfied: tqdm in c:\\users\\yashw\\appdata\\roaming\\python\\python311\\site-packages (from openai-whisper==20240930) (4.67.1)\n",
      "Requirement already satisfied: llvmlite<0.45,>=0.44.0dev0 in c:\\users\\yashw\\appdata\\roaming\\python\\python311\\site-packages (from numba->openai-whisper==20240930) (0.44.0)\n",
      "Requirement already satisfied: regex>=2022.1.18 in c:\\users\\yashw\\appdata\\roaming\\python\\python311\\site-packages (from tiktoken->openai-whisper==20240930) (2024.11.6)\n",
      "Requirement already satisfied: requests>=2.26.0 in c:\\users\\yashw\\appdata\\roaming\\python\\python311\\site-packages (from tiktoken->openai-whisper==20240930) (2.32.3)\n",
      "Requirement already satisfied: filelock in c:\\users\\yashw\\appdata\\roaming\\python\\python311\\site-packages (from torch->openai-whisper==20240930) (3.17.0)\n",
      "Requirement already satisfied: typing-extensions>=4.10.0 in c:\\users\\yashw\\appdata\\roaming\\python\\python311\\site-packages (from torch->openai-whisper==20240930) (4.12.2)\n",
      "Requirement already satisfied: sympy>=1.13.3 in c:\\users\\yashw\\appdata\\roaming\\python\\python311\\site-packages (from torch->openai-whisper==20240930) (1.14.0)\n",
      "Requirement already satisfied: networkx in c:\\users\\yashw\\appdata\\roaming\\python\\python311\\site-packages (from torch->openai-whisper==20240930) (3.4.2)\n",
      "Requirement already satisfied: jinja2 in c:\\users\\yashw\\appdata\\roaming\\python\\python311\\site-packages (from torch->openai-whisper==20240930) (3.1.4)\n",
      "Requirement already satisfied: fsspec in c:\\users\\yashw\\appdata\\roaming\\python\\python311\\site-packages (from torch->openai-whisper==20240930) (2024.12.0)\n",
      "Requirement already satisfied: colorama in c:\\users\\yashw\\appdata\\roaming\\python\\python311\\site-packages (from tqdm->openai-whisper==20240930) (0.4.6)\n",
      "Requirement already satisfied: charset-normalizer<4,>=2 in c:\\users\\yashw\\appdata\\roaming\\python\\python311\\site-packages (from requests>=2.26.0->tiktoken->openai-whisper==20240930) (3.4.0)\n",
      "Requirement already satisfied: idna<4,>=2.5 in c:\\users\\yashw\\appdata\\roaming\\python\\python311\\site-packages (from requests>=2.26.0->tiktoken->openai-whisper==20240930) (3.10)\n",
      "Requirement already satisfied: urllib3<3,>=1.21.1 in c:\\users\\yashw\\appdata\\roaming\\python\\python311\\site-packages (from requests>=2.26.0->tiktoken->openai-whisper==20240930) (2.2.3)\n",
      "Requirement already satisfied: certifi>=2017.4.17 in c:\\users\\yashw\\appdata\\roaming\\python\\python311\\site-packages (from requests>=2.26.0->tiktoken->openai-whisper==20240930) (2024.8.30)\n",
      "Requirement already satisfied: mpmath<1.4,>=1.1.0 in c:\\users\\yashw\\appdata\\roaming\\python\\python311\\site-packages (from sympy>=1.13.3->torch->openai-whisper==20240930) (1.3.0)\n",
      "Requirement already satisfied: MarkupSafe>=2.0 in c:\\users\\yashw\\appdata\\roaming\\python\\python311\\site-packages (from jinja2->torch->openai-whisper==20240930) (3.0.1)\n"
     ]
    },
    {
     "name": "stderr",
     "output_type": "stream",
     "text": [
      "  Running command git clone --filter=blob:none --quiet https://github.com/openai/whisper.git 'C:\\Users\\yashw\\AppData\\Local\\Temp\\pip-req-build-mxj7qiy2'\n",
      "\n",
      "[notice] A new release of pip is available: 24.2 -> 25.1.1\n",
      "[notice] To update, run: python.exe -m pip install --upgrade pip\n"
     ]
    }
   ],
   "source": [
    "!pip install git+https://github.com/openai/whisper.git"
   ]
  },
  {
   "cell_type": "code",
   "execution_count": 2,
   "id": "82929776-24a3-4493-9796-87b8504ebaa3",
   "metadata": {},
   "outputs": [
    {
     "name": "stdout",
     "output_type": "stream",
     "text": [
      "Defaulting to user installation because normal site-packages is not writeable\n",
      "Requirement already satisfied: torchaudio in c:\\users\\yashw\\appdata\\roaming\\python\\python311\\site-packages (2.7.0)\n",
      "Requirement already satisfied: torch==2.7.0 in c:\\users\\yashw\\appdata\\roaming\\python\\python311\\site-packages (from torchaudio) (2.7.0)\n",
      "Requirement already satisfied: filelock in c:\\users\\yashw\\appdata\\roaming\\python\\python311\\site-packages (from torch==2.7.0->torchaudio) (3.17.0)\n",
      "Requirement already satisfied: typing-extensions>=4.10.0 in c:\\users\\yashw\\appdata\\roaming\\python\\python311\\site-packages (from torch==2.7.0->torchaudio) (4.12.2)\n",
      "Requirement already satisfied: sympy>=1.13.3 in c:\\users\\yashw\\appdata\\roaming\\python\\python311\\site-packages (from torch==2.7.0->torchaudio) (1.14.0)\n",
      "Requirement already satisfied: networkx in c:\\users\\yashw\\appdata\\roaming\\python\\python311\\site-packages (from torch==2.7.0->torchaudio) (3.4.2)\n",
      "Requirement already satisfied: jinja2 in c:\\users\\yashw\\appdata\\roaming\\python\\python311\\site-packages (from torch==2.7.0->torchaudio) (3.1.4)\n",
      "Requirement already satisfied: fsspec in c:\\users\\yashw\\appdata\\roaming\\python\\python311\\site-packages (from torch==2.7.0->torchaudio) (2024.12.0)\n",
      "Requirement already satisfied: mpmath<1.4,>=1.1.0 in c:\\users\\yashw\\appdata\\roaming\\python\\python311\\site-packages (from sympy>=1.13.3->torch==2.7.0->torchaudio) (1.3.0)\n",
      "Requirement already satisfied: MarkupSafe>=2.0 in c:\\users\\yashw\\appdata\\roaming\\python\\python311\\site-packages (from jinja2->torch==2.7.0->torchaudio) (3.0.1)\n"
     ]
    },
    {
     "name": "stderr",
     "output_type": "stream",
     "text": [
      "\n",
      "[notice] A new release of pip is available: 24.2 -> 25.1.1\n",
      "[notice] To update, run: python.exe -m pip install --upgrade pip\n"
     ]
    }
   ],
   "source": [
    "!pip install torchaudio"
   ]
  },
  {
   "cell_type": "code",
   "execution_count": 3,
   "id": "ad4dca7a-bec8-47a2-9cee-223e4eac83b4",
   "metadata": {},
   "outputs": [
    {
     "name": "stdout",
     "output_type": "stream",
     "text": [
      "Defaulting to user installation because normal site-packages is not writeable\n",
      "Requirement already satisfied: ffmpeg-python in c:\\users\\yashw\\appdata\\roaming\\python\\python311\\site-packages (0.2.0)\n",
      "Requirement already satisfied: future in c:\\users\\yashw\\appdata\\roaming\\python\\python311\\site-packages (from ffmpeg-python) (1.0.0)\n"
     ]
    },
    {
     "name": "stderr",
     "output_type": "stream",
     "text": [
      "\n",
      "[notice] A new release of pip is available: 24.2 -> 25.1.1\n",
      "[notice] To update, run: python.exe -m pip install --upgrade pip\n"
     ]
    }
   ],
   "source": [
    "!pip install ffmpeg-python"
   ]
  },
  {
   "cell_type": "code",
   "execution_count": 4,
   "id": "5e945b12-9093-42db-934f-754367eb313a",
   "metadata": {},
   "outputs": [],
   "source": [
    "import whisper\n",
    "import torch\n"
   ]
  },
  {
   "cell_type": "code",
   "execution_count": 5,
   "id": "d9b9bed7-6ce7-4a6a-a7a3-950910484e4d",
   "metadata": {},
   "outputs": [
    {
     "name": "stdout",
     "output_type": "stream",
     "text": [
      "Using device: cpu\n"
     ]
    }
   ],
   "source": [
    "# Check if GPU is available (optional)\n",
    "device = \"cuda\" if torch.cuda.is_available() else \"cpu\"\n",
    "print(\"Using device:\", device)\n",
    "\n",
    "# Load whisper model\n",
    "model = whisper.load_model(\"base\", device=device)\n"
   ]
  },
  {
   "cell_type": "code",
   "execution_count": 6,
   "id": "b0f29875-a5d9-4530-9c75-1baca3c08521",
   "metadata": {},
   "outputs": [
    {
     "name": "stdout",
     "output_type": "stream",
     "text": [
      "Transcribing...\n"
     ]
    },
    {
     "name": "stderr",
     "output_type": "stream",
     "text": [
      "C:\\Users\\yashw\\AppData\\Roaming\\Python\\Python311\\site-packages\\whisper\\transcribe.py:132: UserWarning: FP16 is not supported on CPU; using FP32 instead\n",
      "  warnings.warn(\"FP16 is not supported on CPU; using FP32 instead\")\n"
     ]
    },
    {
     "name": "stdout",
     "output_type": "stream",
     "text": [
      "\n",
      "--- Transcribed Text ---\n",
      "\n",
      " Artificial Intelligence, AI, is the simulation of human intelligence in machines that are designed to think and learn like humans. It enables computers to perform tasks such as speech recognition, decision making, translation, and visual perception. AI is widely used in applications like virtual assistance, self-driving cars, healthcare diagnostics, and financial forecasting. As AI technology continues to evolve, it is transforming industries and shaping the future of work and society.\n"
     ]
    }
   ],
   "source": [
    "# Path to your MP3 file\n",
    "audio_path = \"audio.mp3\"  # Ensure this file is in the same folder or provide full path\n",
    "\n",
    "# Transcribe\n",
    "print(\"Transcribing...\")\n",
    "result = model.transcribe(audio_path)\n",
    "\n",
    "# Display result\n",
    "print(\"\\n--- Transcribed Text ---\\n\")\n",
    "print(result['text'])\n"
   ]
  },
  {
   "cell_type": "code",
   "execution_count": null,
   "id": "894e8024-90a1-4a62-a9da-5ce5a28ecbeb",
   "metadata": {},
   "outputs": [],
   "source": []
  }
 ],
 "metadata": {
  "kernelspec": {
   "display_name": "Python 3 (ipykernel)",
   "language": "python",
   "name": "python3"
  },
  "language_info": {
   "codemirror_mode": {
    "name": "ipython",
    "version": 3
   },
   "file_extension": ".py",
   "mimetype": "text/x-python",
   "name": "python",
   "nbconvert_exporter": "python",
   "pygments_lexer": "ipython3",
   "version": "3.11.3"
  }
 },
 "nbformat": 4,
 "nbformat_minor": 5
}
